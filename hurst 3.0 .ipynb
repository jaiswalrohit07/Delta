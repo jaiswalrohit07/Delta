{
 "cells": [
  {
   "cell_type": "code",
   "execution_count": 3,
   "id": "a7977ee5",
   "metadata": {},
   "outputs": [
    {
     "ename": "SyntaxError",
     "evalue": "invalid syntax (2490396316.py, line 11)",
     "output_type": "error",
     "traceback": [
      "\u001b[1;36m  Input \u001b[1;32mIn [3]\u001b[1;36m\u001b[0m\n\u001b[1;33m    if  mod(currentbar,recalc)=0 and (period=0 or currentbar>period) and currentbar>100 then begin\u001b[0m\n\u001b[1;37m                              ^\u001b[0m\n\u001b[1;31mSyntaxError\u001b[0m\u001b[1;31m:\u001b[0m invalid syntax\n"
     ]
    }
   ],
   "source": [
    "once pyexec\n",
    "import numpy as np\n",
    "import matplotlib.pyplot as plt\n",
    "from hurst import compute_Hc\n",
    "import base64\n",
    "import io\n",
    "end;\n",
    "\n",
    "appendarray(price,(close));\n",
    "\n",
    "if  mod(currentbar,recalc)=0 and (period=0 or currentbar>period) and currentbar>100 then begin\n",
    "\n",
    "if period>0 then begin // last period prices\n",
    "\tsetarraylength(HCdata,period-1);\n",
    "\tgetarraylength(price);\n",
    "\tcopyarray(price,getarraylength(price)-period,HCdata,0,period);\n",
    "end else if currentbar>100 then copyarray(price,0,HCdata,0,getarraylength(price));\n",
    "\n",
    "if currentbar>100 then pyexec\n",
    "series=np.array(equilla.HCdata)\n",
    "# Evaluate Hurst equation over last bars\n",
    "H, c, data = compute_Hc(series, kind='random_walk', simplified=True)\n",
    "\n",
    "print(\"H={:.4f}, c={:.4f}\".format(H,c))\n",
    "# print(data)\n",
    "end;"
   ]
  },
  {
   "cell_type": "code",
   "execution_count": 2,
   "id": "f94461db",
   "metadata": {},
   "outputs": [
    {
     "ename": "SyntaxError",
     "evalue": "invalid syntax (1301503138.py, line 1)",
     "output_type": "error",
     "traceback": [
      "\u001b[1;36m  Input \u001b[1;32mIn [2]\u001b[1;36m\u001b[0m\n\u001b[1;33m    hurst_H=pyeval H end;\u001b[0m\n\u001b[1;37m                   ^\u001b[0m\n\u001b[1;31mSyntaxError\u001b[0m\u001b[1;31m:\u001b[0m invalid syntax\n"
     ]
    }
   ],
   "source": [
    "hurst_H=pyeval H end;\n",
    "hurst_c=pyeval c end;\n",
    "\n",
    "end;\n",
    "if islastbar and PlotLogRS_LogN then begin\n",
    "\n",
    "pyexec\n",
    "series=np.array(equilla.price) # complete chart history\n",
    "H, c, data = compute_Hc(series, kind='random_walk', simplified=True)\n",
    "\n",
    "# Plot\n",
    "f, ax = plt.subplots()\n",
    "ax.plot(data[0], c*data[0]**H, color=\"deepskyblue\")\n",
    "ax.scatter(data[0], data[1], color=\"purple\")\n",
    "ax.set_xscale('log')\n",
    "ax.set_yscale('log')\n",
    "ax.set_xlabel('Time interval')\n",
    "ax.set_ylabel('R/S ratio')\n",
    "ax.grid(True)\n",
    "\n",
    "buf=io.BytesIO()\n",
    "plt.savefig(buf, format='png')\n",
    "img = base64.b64encode(buf.getvalue()).decode('utf8')\n",
    "plt.close()\n",
    "buf.close()\n",
    "end;\n",
    "\n",
    "GridCreateWindow( 1, AlignTop + AlignRight, -20, 20, True );\n",
    "\tGridSetBackColor( 1, Transparent );\n",
    "\tGridCreateLabel( 1, 0, 1, \"Log(R/S) vs Log(n)\" );\n",
    "\tGridCreateImage( 1, 1, 1, GridRegisterImage( PyEval img End ), 100 );\n",
    "end;\n",
    "\n",
    "drawline(hurst_H,\"Hurst Exponent\");\n",
    "drawline(0.5,\"0.5\");"
   ]
  },
  {
   "cell_type": "code",
   "execution_count": null,
   "id": "a7b0320d",
   "metadata": {},
   "outputs": [],
   "source": []
  }
 ],
 "metadata": {
  "kernelspec": {
   "display_name": "Python 3 (ipykernel)",
   "language": "python",
   "name": "python3"
  },
  "language_info": {
   "codemirror_mode": {
    "name": "ipython",
    "version": 3
   },
   "file_extension": ".py",
   "mimetype": "text/x-python",
   "name": "python",
   "nbconvert_exporter": "python",
   "pygments_lexer": "ipython3",
   "version": "3.9.12"
  }
 },
 "nbformat": 4,
 "nbformat_minor": 5
}
