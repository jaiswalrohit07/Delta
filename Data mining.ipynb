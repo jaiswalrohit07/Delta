{
 "cells": [
  {
   "cell_type": "code",
   "execution_count": 1,
   "id": "f5c98735",
   "metadata": {},
   "outputs": [],
   "source": [
    "import pandas as pd\n",
    "import numpy as np\n",
    "import datetime\n",
    "import yfinance as yf\n",
    "import matplotlib.pyplot as plt\n",
    "import warnings\n",
    "\n",
    "warnings.filterwarnings('ignore')"
   ]
  },
  {
   "cell_type": "code",
   "execution_count": 255,
   "id": "c58058a1",
   "metadata": {},
   "outputs": [],
   "source": [
    "df = pd.read_csv('BTC-trades/BTCUSDT-trades-2022-07-01.csv')\n",
    "# df = pd.read_csv('test dataset - Sheet1.csv')\n",
    "# df.columns =['Serial Number', 'Close', 'Volume', 'Price-Volume' , 'Unix' , 'Trade Log', 'delete' ]\n"
   ]
  },
  {
   "cell_type": "code",
   "execution_count": 268,
   "id": "d31862ac",
   "metadata": {},
   "outputs": [],
   "source": [
    "dd =[]\n",
    "for i in range(1, 13):\n",
    "    if i < 10:\n",
    "        \n",
    "        d = 'BTC-trades/BTCUSDT-trades-2022-07-0' + str(i) + '.csv'\n",
    "    else:\n",
    "        d = 'BTC-trades/BTCUSDT-trades-2022-07-' + str(i) + '.csv'\n",
    "    dd.append(d)"
   ]
  },
  {
   "cell_type": "code",
   "execution_count": 264,
   "id": "83c5362d",
   "metadata": {},
   "outputs": [
    {
     "data": {
      "text/plain": [
       "['BTC-trades/BTCUSDT-trades-2022-07-01.csv',\n",
       " 'BTC-trades/BTCUSDT-trades-2022-07-02.csv',\n",
       " 'BTC-trades/BTCUSDT-trades-2022-07-03.csv',\n",
       " 'BTC-trades/BTCUSDT-trades-2022-07-04.csv',\n",
       " 'BTC-trades/BTCUSDT-trades-2022-07-05.csv',\n",
       " 'BTC-trades/BTCUSDT-trades-2022-07-06.csv',\n",
       " 'BTC-trades/BTCUSDT-trades-2022-07-07.csv',\n",
       " 'BTC-trades/BTCUSDT-trades-2022-07-08.csv',\n",
       " 'BTC-trades/BTCUSDT-trades-2022-07-9.csv',\n",
       " 'BTC-trades/BTCUSDT-trades-2022-07-10.csv',\n",
       " 'BTC-trades/BTCUSDT-trades-2022-07-11.csv',\n",
       " 'BTC-trades/BTCUSDT-trades-2022-07-12.csv']"
      ]
     },
     "execution_count": 264,
     "metadata": {},
     "output_type": "execute_result"
    }
   ],
   "source": [
    "dd"
   ]
  },
  {
   "cell_type": "code",
   "execution_count": 2,
   "id": "35c5a634",
   "metadata": {},
   "outputs": [],
   "source": [
    "def sampling(df , serial):\n",
    "    df.columns =[ 'Serial Number', 'Close', 'Volume', 'Price-Volume' , 'Unix' , 'Trade Log', 'delete' ]\n",
    "\n",
    "    df['Quotient'] = df['Unix']//1000\n",
    "    df_High=  df.groupby('Quotient')['Close'].max()\n",
    "    df_Low =  df.groupby('Quotient')['Close'].min()\n",
    "    df_Volume =  df.groupby('Quotient')['Volume'].sum()\n",
    "    \n",
    "    for i in range(len(df['Close'])):\n",
    "        df.loc[i,'TimeStamp1'] = datetime.datetime.fromtimestamp((df.loc[i,'Unix'])/1000 ).strftime('%Y-%m-%d %H:%M:%S.%f').split('.')[0]\n",
    "    \n",
    "    df_TimeStamp = df.groupby('TimeStamp1')['TimeStamp1']\n",
    "    timeframe = df_TimeStamp.unique()\n",
    "    timeframe = pd.DataFrame(timeframe)\n",
    "    \n",
    "    data = pd.DataFrame(df_High)\n",
    "    \n",
    "    df.index = df['Quotient']\n",
    "    df = df.drop(['Quotient'] , axis =1 )\n",
    "    close_df =[]\n",
    "    open_df =[]\n",
    "    for i in range(len(data)):\n",
    "        index = data.index[i]\n",
    "\n",
    "        t = np.array(df.loc[index]['Close'])\n",
    "#         print(t)\n",
    "        try:\n",
    "\n",
    "            open_df.append(t[0])\n",
    "            close_df.append(t[-1])\n",
    "        except:\n",
    "\n",
    "            open_df.append(np.nan)\n",
    "            close_df.append(np.nan)\n",
    "        \n",
    "    data['TimeStamp'] = timeframe.index\n",
    "    data['High'] = df_High\n",
    "    data['Low'] = df_Low\n",
    "    data['Close'] = close_df\n",
    "    data['Open'] = open_df\n",
    "    data['Volume'] = np.array(df_Volume)\n",
    "#     data = pd.DataFrame(timeframe)\n",
    "\n",
    "    data =data.reset_index()\n",
    "#     data =data.reset_index()\n",
    "    l = 'final_BTC_output_2022-07-'+str(serial)+'.csv'\n",
    "    print(l)\n",
    "    data.to_csv(l)\n",
    "    \n",
    "    "
   ]
  },
  {
   "cell_type": "code",
   "execution_count": null,
   "id": "c7cd2e65",
   "metadata": {},
   "outputs": [],
   "source": [
    "# %%timeit\n",
    "for i in range(0,13):\n",
    "#     print(dd[i])\n",
    "#     df = pd.read_csv('BTC')\n",
    "    df = pd.read_csv(dd[i])\n",
    "    sampling(df, i+1)\n"
   ]
  },
  {
   "cell_type": "code",
   "execution_count": 3,
   "id": "b7730aba",
   "metadata": {},
   "outputs": [
    {
     "name": "stdout",
     "output_type": "stream",
     "text": [
      "final_BTC_output_2022-07-1.csv\n"
     ]
    }
   ],
   "source": [
    "\n",
    "df = pd.read_csv('BTC-trades/BTCUSDT-trades-2022-07-01.csv')\n",
    "sampling(df, 1)"
   ]
  },
  {
   "cell_type": "code",
   "execution_count": 4,
   "id": "9f5b271b",
   "metadata": {},
   "outputs": [
    {
     "name": "stdout",
     "output_type": "stream",
     "text": [
      "final_BTC_output_2022-07-2.csv\n"
     ]
    }
   ],
   "source": [
    "\n",
    "df = pd.read_csv('BTC-trades/BTCUSDT-trades-2022-07-02.csv')\n",
    "sampling(df, 2)"
   ]
  },
  {
   "cell_type": "code",
   "execution_count": 5,
   "id": "f8c4f4a1",
   "metadata": {},
   "outputs": [
    {
     "name": "stdout",
     "output_type": "stream",
     "text": [
      "final_BTC_output_2022-07-3.csv\n"
     ]
    }
   ],
   "source": [
    "\n",
    "df = pd.read_csv('BTC-trades/BTCUSDT-trades-2022-07-03.csv')\n",
    "sampling(df, 3)"
   ]
  },
  {
   "cell_type": "code",
   "execution_count": 6,
   "id": "77af4694",
   "metadata": {},
   "outputs": [
    {
     "name": "stdout",
     "output_type": "stream",
     "text": [
      "final_BTC_output_2022-07-4.csv\n"
     ]
    }
   ],
   "source": [
    "\n",
    "df = pd.read_csv('BTC-trades/BTCUSDT-trades-2022-07-04.csv')\n",
    "sampling(df, 4)"
   ]
  },
  {
   "cell_type": "code",
   "execution_count": 7,
   "id": "0c9c9000",
   "metadata": {},
   "outputs": [
    {
     "name": "stdout",
     "output_type": "stream",
     "text": [
      "final_BTC_output_2022-07-5.csv\n"
     ]
    }
   ],
   "source": [
    "\n",
    "df = pd.read_csv('BTC-trades/BTCUSDT-trades-2022-07-05.csv')\n",
    "sampling(df, 5)"
   ]
  },
  {
   "cell_type": "code",
   "execution_count": 8,
   "id": "a3116c83",
   "metadata": {},
   "outputs": [
    {
     "name": "stdout",
     "output_type": "stream",
     "text": [
      "final_BTC_output_2022-07-6.csv\n"
     ]
    }
   ],
   "source": [
    "\n",
    "df = pd.read_csv('BTC-trades/BTCUSDT-trades-2022-07-06.csv')\n",
    "sampling(df, 6)"
   ]
  },
  {
   "cell_type": "code",
   "execution_count": 9,
   "id": "4dcfe4f5",
   "metadata": {},
   "outputs": [
    {
     "name": "stdout",
     "output_type": "stream",
     "text": [
      "final_BTC_output_2022-07-7.csv\n"
     ]
    }
   ],
   "source": [
    "\n",
    "df = pd.read_csv('BTC-trades/BTCUSDT-trades-2022-07-07.csv')\n",
    "sampling(df, 7)"
   ]
  },
  {
   "cell_type": "code",
   "execution_count": 10,
   "id": "41cd32f5",
   "metadata": {},
   "outputs": [
    {
     "name": "stdout",
     "output_type": "stream",
     "text": [
      "final_BTC_output_2022-07-8.csv\n"
     ]
    }
   ],
   "source": [
    "\n",
    "df = pd.read_csv('BTC-trades/BTCUSDT-trades-2022-07-08.csv')\n",
    "sampling(df, 8)"
   ]
  },
  {
   "cell_type": "code",
   "execution_count": 11,
   "id": "f3bc422c",
   "metadata": {},
   "outputs": [
    {
     "name": "stdout",
     "output_type": "stream",
     "text": [
      "final_BTC_output_2022-07-9.csv\n"
     ]
    }
   ],
   "source": [
    "\n",
    "df = pd.read_csv('BTC-trades/BTCUSDT-trades-2022-07-09.csv')\n",
    "sampling(df, 9)"
   ]
  },
  {
   "cell_type": "code",
   "execution_count": 12,
   "id": "ec552df3",
   "metadata": {},
   "outputs": [
    {
     "name": "stdout",
     "output_type": "stream",
     "text": [
      "final_BTC_output_2022-07-10.csv\n"
     ]
    }
   ],
   "source": [
    "\n",
    "df = pd.read_csv('BTC-trades/BTCUSDT-trades-2022-07-10.csv')\n",
    "sampling(df, 10)"
   ]
  },
  {
   "cell_type": "code",
   "execution_count": 13,
   "id": "1af689f3",
   "metadata": {},
   "outputs": [
    {
     "name": "stdout",
     "output_type": "stream",
     "text": [
      "final_BTC_output_2022-07-11.csv\n"
     ]
    }
   ],
   "source": [
    "\n",
    "df = pd.read_csv('BTC-trades/BTCUSDT-trades-2022-07-11.csv')\n",
    "sampling(df, 11)"
   ]
  },
  {
   "cell_type": "code",
   "execution_count": 33,
   "id": "d4caaffd",
   "metadata": {},
   "outputs": [
    {
     "data": {
      "text/html": [
       "<div>\n",
       "<style scoped>\n",
       "    .dataframe tbody tr th:only-of-type {\n",
       "        vertical-align: middle;\n",
       "    }\n",
       "\n",
       "    .dataframe tbody tr th {\n",
       "        vertical-align: top;\n",
       "    }\n",
       "\n",
       "    .dataframe thead th {\n",
       "        text-align: right;\n",
       "    }\n",
       "</style>\n",
       "<table border=\"1\" class=\"dataframe\">\n",
       "  <thead>\n",
       "    <tr style=\"text-align: right;\">\n",
       "      <th></th>\n",
       "      <th>1454893453</th>\n",
       "      <th>19963.61000000</th>\n",
       "      <th>0.00099000</th>\n",
       "      <th>19.76397390</th>\n",
       "      <th>1657584000000</th>\n",
       "      <th>False</th>\n",
       "      <th>True</th>\n",
       "    </tr>\n",
       "  </thead>\n",
       "  <tbody>\n",
       "    <tr>\n",
       "      <th>0</th>\n",
       "      <td>1454893454</td>\n",
       "      <td>19963.61</td>\n",
       "      <td>0.00148</td>\n",
       "      <td>29.546143</td>\n",
       "      <td>1657584000001</td>\n",
       "      <td>False</td>\n",
       "      <td>True</td>\n",
       "    </tr>\n",
       "    <tr>\n",
       "      <th>1</th>\n",
       "      <td>1454893455</td>\n",
       "      <td>19961.43</td>\n",
       "      <td>0.00101</td>\n",
       "      <td>20.161044</td>\n",
       "      <td>1657584000004</td>\n",
       "      <td>True</td>\n",
       "      <td>True</td>\n",
       "    </tr>\n",
       "    <tr>\n",
       "      <th>2</th>\n",
       "      <td>1454893456</td>\n",
       "      <td>19961.43</td>\n",
       "      <td>0.00114</td>\n",
       "      <td>22.756030</td>\n",
       "      <td>1657584000005</td>\n",
       "      <td>True</td>\n",
       "      <td>True</td>\n",
       "    </tr>\n",
       "    <tr>\n",
       "      <th>3</th>\n",
       "      <td>1454893457</td>\n",
       "      <td>19963.61</td>\n",
       "      <td>0.00488</td>\n",
       "      <td>97.422417</td>\n",
       "      <td>1657584000005</td>\n",
       "      <td>False</td>\n",
       "      <td>True</td>\n",
       "    </tr>\n",
       "    <tr>\n",
       "      <th>4</th>\n",
       "      <td>1454893458</td>\n",
       "      <td>19963.62</td>\n",
       "      <td>0.00020</td>\n",
       "      <td>3.992724</td>\n",
       "      <td>1657584000005</td>\n",
       "      <td>False</td>\n",
       "      <td>True</td>\n",
       "    </tr>\n",
       "  </tbody>\n",
       "</table>\n",
       "</div>"
      ],
      "text/plain": [
       "   1454893453  19963.61000000  0.00099000  19.76397390  1657584000000  False  \\\n",
       "0  1454893454        19963.61     0.00148    29.546143  1657584000001  False   \n",
       "1  1454893455        19961.43     0.00101    20.161044  1657584000004   True   \n",
       "2  1454893456        19961.43     0.00114    22.756030  1657584000005   True   \n",
       "3  1454893457        19963.61     0.00488    97.422417  1657584000005  False   \n",
       "4  1454893458        19963.62     0.00020     3.992724  1657584000005  False   \n",
       "\n",
       "   True  \n",
       "0  True  \n",
       "1  True  \n",
       "2  True  \n",
       "3  True  \n",
       "4  True  "
      ]
     },
     "execution_count": 33,
     "metadata": {},
     "output_type": "execute_result"
    }
   ],
   "source": [
    "\n",
    "df = pd.read_csv('BTC-trades/BTCUSDT-trades-2022-07-12.csv')\n",
    "# sampling(df, 12)\n",
    "df.head()"
   ]
  },
  {
   "cell_type": "code",
   "execution_count": null,
   "id": "7a1140b2",
   "metadata": {},
   "outputs": [],
   "source": [
    "x = len(pd.read)"
   ]
  },
  {
   "cell_type": "code",
   "execution_count": 30,
   "id": "884cc705",
   "metadata": {},
   "outputs": [],
   "source": [
    "df_btc_1s = pd.concat(map(pd.read_csv, ['final_BTC_output_2022-07-1.csv' , 'final_BTC_output_2022-07-2.csv' , 'final_BTC_output_2022-07-3.csv' , 'final_BTC_output_2022-07-4.csv' , 'final_BTC_output_2022-07-5.csv' , 'final_BTC_output_2022-07-6.csv' , 'final_BTC_output_2022-07-7.csv' , 'final_BTC_output_2022-07-8.csv' , 'final_BTC_output_2022-07-9.csv' , 'final_BTC_output_2022-07-10.csv' , 'final_BTC_output_2022-07-11.csv' , 'final_BTC_output_2022-07-12.csv']))"
   ]
  },
  {
   "cell_type": "code",
   "execution_count": 35,
   "id": "86020c49",
   "metadata": {},
   "outputs": [],
   "source": [
    "df_btc_1s = df_btc_1s.reset_index()"
   ]
  },
  {
   "cell_type": "code",
   "execution_count": 37,
   "id": "7608640b",
   "metadata": {},
   "outputs": [],
   "source": [
    "df_final = df_btc_1s[['Quotient', 'TimeStamp' ,'Close','Open', 'High' , 'Low', 'Volume']]"
   ]
  },
  {
   "cell_type": "code",
   "execution_count": 40,
   "id": "0077e5a5",
   "metadata": {},
   "outputs": [
    {
     "data": {
      "text/html": [
       "<div>\n",
       "<style scoped>\n",
       "    .dataframe tbody tr th:only-of-type {\n",
       "        vertical-align: middle;\n",
       "    }\n",
       "\n",
       "    .dataframe tbody tr th {\n",
       "        vertical-align: top;\n",
       "    }\n",
       "\n",
       "    .dataframe thead th {\n",
       "        text-align: right;\n",
       "    }\n",
       "</style>\n",
       "<table border=\"1\" class=\"dataframe\">\n",
       "  <thead>\n",
       "    <tr style=\"text-align: right;\">\n",
       "      <th></th>\n",
       "      <th>Quotient</th>\n",
       "      <th>TimeStamp</th>\n",
       "      <th>Close</th>\n",
       "      <th>Open</th>\n",
       "      <th>High</th>\n",
       "      <th>Low</th>\n",
       "      <th>Volume</th>\n",
       "    </tr>\n",
       "  </thead>\n",
       "  <tbody>\n",
       "    <tr>\n",
       "      <th>987480</th>\n",
       "      <td>1657670395</td>\n",
       "      <td>2022-07-13 05:29:55</td>\n",
       "      <td>19332.42</td>\n",
       "      <td>19331.23</td>\n",
       "      <td>19332.94</td>\n",
       "      <td>19329.10</td>\n",
       "      <td>0.23427</td>\n",
       "    </tr>\n",
       "    <tr>\n",
       "      <th>987481</th>\n",
       "      <td>1657670396</td>\n",
       "      <td>2022-07-13 05:29:56</td>\n",
       "      <td>19333.52</td>\n",
       "      <td>19332.42</td>\n",
       "      <td>19333.52</td>\n",
       "      <td>19330.89</td>\n",
       "      <td>0.39074</td>\n",
       "    </tr>\n",
       "    <tr>\n",
       "      <th>987482</th>\n",
       "      <td>1657670397</td>\n",
       "      <td>2022-07-13 05:29:57</td>\n",
       "      <td>19333.51</td>\n",
       "      <td>19332.42</td>\n",
       "      <td>19333.52</td>\n",
       "      <td>19331.53</td>\n",
       "      <td>0.18587</td>\n",
       "    </tr>\n",
       "    <tr>\n",
       "      <th>987483</th>\n",
       "      <td>1657670398</td>\n",
       "      <td>2022-07-13 05:29:58</td>\n",
       "      <td>19332.35</td>\n",
       "      <td>19333.28</td>\n",
       "      <td>19333.28</td>\n",
       "      <td>19332.35</td>\n",
       "      <td>0.16618</td>\n",
       "    </tr>\n",
       "    <tr>\n",
       "      <th>987484</th>\n",
       "      <td>1657670399</td>\n",
       "      <td>2022-07-13 05:29:59</td>\n",
       "      <td>19328.75</td>\n",
       "      <td>19333.13</td>\n",
       "      <td>19333.99</td>\n",
       "      <td>19328.75</td>\n",
       "      <td>0.50966</td>\n",
       "    </tr>\n",
       "  </tbody>\n",
       "</table>\n",
       "</div>"
      ],
      "text/plain": [
       "          Quotient            TimeStamp     Close      Open      High  \\\n",
       "987480  1657670395  2022-07-13 05:29:55  19332.42  19331.23  19332.94   \n",
       "987481  1657670396  2022-07-13 05:29:56  19333.52  19332.42  19333.52   \n",
       "987482  1657670397  2022-07-13 05:29:57  19333.51  19332.42  19333.52   \n",
       "987483  1657670398  2022-07-13 05:29:58  19332.35  19333.28  19333.28   \n",
       "987484  1657670399  2022-07-13 05:29:59  19328.75  19333.13  19333.99   \n",
       "\n",
       "             Low   Volume  \n",
       "987480  19329.10  0.23427  \n",
       "987481  19330.89  0.39074  \n",
       "987482  19331.53  0.18587  \n",
       "987483  19332.35  0.16618  \n",
       "987484  19328.75  0.50966  "
      ]
     },
     "execution_count": 40,
     "metadata": {},
     "output_type": "execute_result"
    }
   ],
   "source": [
    "df_final.tail()"
   ]
  },
  {
   "cell_type": "code",
   "execution_count": 41,
   "id": "d28ccace",
   "metadata": {},
   "outputs": [],
   "source": [
    "df_final.to_csv('July_01-12_2022_BTCUSDT_data.csv')"
   ]
  },
  {
   "cell_type": "code",
   "execution_count": null,
   "id": "be6a3dfc",
   "metadata": {},
   "outputs": [],
   "source": []
  },
  {
   "cell_type": "code",
   "execution_count": 186,
   "id": "ed8e1c2c",
   "metadata": {},
   "outputs": [],
   "source": [
    "df.columns =['Serial Number', 'Close', 'Volume', 'Price-Volume' , 'Unix' , 'Trade Log', 'delete' ]"
   ]
  },
  {
   "cell_type": "code",
   "execution_count": 187,
   "id": "4624499f",
   "metadata": {},
   "outputs": [
    {
     "data": {
      "text/html": [
       "<div>\n",
       "<style scoped>\n",
       "    .dataframe tbody tr th:only-of-type {\n",
       "        vertical-align: middle;\n",
       "    }\n",
       "\n",
       "    .dataframe tbody tr th {\n",
       "        vertical-align: top;\n",
       "    }\n",
       "\n",
       "    .dataframe thead th {\n",
       "        text-align: right;\n",
       "    }\n",
       "</style>\n",
       "<table border=\"1\" class=\"dataframe\">\n",
       "  <thead>\n",
       "    <tr style=\"text-align: right;\">\n",
       "      <th></th>\n",
       "      <th>Serial Number</th>\n",
       "      <th>Close</th>\n",
       "      <th>Volume</th>\n",
       "      <th>Price-Volume</th>\n",
       "      <th>Unix</th>\n",
       "      <th>Trade Log</th>\n",
       "      <th>delete</th>\n",
       "    </tr>\n",
       "  </thead>\n",
       "  <tbody>\n",
       "    <tr>\n",
       "      <th>0</th>\n",
       "      <td>1430939794</td>\n",
       "      <td>19942.21</td>\n",
       "      <td>0.00277</td>\n",
       "      <td>55.23992</td>\n",
       "      <td>1656633600003</td>\n",
       "      <td>True</td>\n",
       "      <td>True</td>\n",
       "    </tr>\n",
       "    <tr>\n",
       "      <th>1</th>\n",
       "      <td>1430939795</td>\n",
       "      <td>19942.22</td>\n",
       "      <td>0.00133</td>\n",
       "      <td>26.52315</td>\n",
       "      <td>1656633600005</td>\n",
       "      <td>False</td>\n",
       "      <td>True</td>\n",
       "    </tr>\n",
       "    <tr>\n",
       "      <th>2</th>\n",
       "      <td>1430939796</td>\n",
       "      <td>19942.21</td>\n",
       "      <td>0.00109</td>\n",
       "      <td>21.73701</td>\n",
       "      <td>1656633600007</td>\n",
       "      <td>True</td>\n",
       "      <td>True</td>\n",
       "    </tr>\n",
       "    <tr>\n",
       "      <th>3</th>\n",
       "      <td>1430939797</td>\n",
       "      <td>19942.22</td>\n",
       "      <td>0.00109</td>\n",
       "      <td>21.73702</td>\n",
       "      <td>1656633600008</td>\n",
       "      <td>False</td>\n",
       "      <td>True</td>\n",
       "    </tr>\n",
       "    <tr>\n",
       "      <th>4</th>\n",
       "      <td>1430939798</td>\n",
       "      <td>19940.97</td>\n",
       "      <td>0.00180</td>\n",
       "      <td>35.89375</td>\n",
       "      <td>1656633600009</td>\n",
       "      <td>True</td>\n",
       "      <td>True</td>\n",
       "    </tr>\n",
       "    <tr>\n",
       "      <th>...</th>\n",
       "      <td>...</td>\n",
       "      <td>...</td>\n",
       "      <td>...</td>\n",
       "      <td>...</td>\n",
       "      <td>...</td>\n",
       "      <td>...</td>\n",
       "      <td>...</td>\n",
       "    </tr>\n",
       "    <tr>\n",
       "      <th>244</th>\n",
       "      <td>1430940038</td>\n",
       "      <td>19949.72</td>\n",
       "      <td>0.20000</td>\n",
       "      <td>3989.94400</td>\n",
       "      <td>1656633602546</td>\n",
       "      <td>False</td>\n",
       "      <td>True</td>\n",
       "    </tr>\n",
       "    <tr>\n",
       "      <th>245</th>\n",
       "      <td>1430940039</td>\n",
       "      <td>19949.73</td>\n",
       "      <td>0.31016</td>\n",
       "      <td>6187.60800</td>\n",
       "      <td>1656633602546</td>\n",
       "      <td>False</td>\n",
       "      <td>True</td>\n",
       "    </tr>\n",
       "    <tr>\n",
       "      <th>246</th>\n",
       "      <td>1430940040</td>\n",
       "      <td>19949.74</td>\n",
       "      <td>0.09591</td>\n",
       "      <td>1913.38000</td>\n",
       "      <td>1656633602546</td>\n",
       "      <td>False</td>\n",
       "      <td>True</td>\n",
       "    </tr>\n",
       "    <tr>\n",
       "      <th>247</th>\n",
       "      <td>1430940041</td>\n",
       "      <td>19949.80</td>\n",
       "      <td>0.69401</td>\n",
       "      <td>13845.36000</td>\n",
       "      <td>1656633602546</td>\n",
       "      <td>False</td>\n",
       "      <td>True</td>\n",
       "    </tr>\n",
       "    <tr>\n",
       "      <th>248</th>\n",
       "      <td>1430940042</td>\n",
       "      <td>19950.00</td>\n",
       "      <td>4.40000</td>\n",
       "      <td>87780.00000</td>\n",
       "      <td>1656633602546</td>\n",
       "      <td>False</td>\n",
       "      <td>True</td>\n",
       "    </tr>\n",
       "  </tbody>\n",
       "</table>\n",
       "<p>249 rows × 7 columns</p>\n",
       "</div>"
      ],
      "text/plain": [
       "     Serial Number     Close   Volume  Price-Volume           Unix  Trade Log  \\\n",
       "0       1430939794  19942.21  0.00277      55.23992  1656633600003       True   \n",
       "1       1430939795  19942.22  0.00133      26.52315  1656633600005      False   \n",
       "2       1430939796  19942.21  0.00109      21.73701  1656633600007       True   \n",
       "3       1430939797  19942.22  0.00109      21.73702  1656633600008      False   \n",
       "4       1430939798  19940.97  0.00180      35.89375  1656633600009       True   \n",
       "..             ...       ...      ...           ...            ...        ...   \n",
       "244     1430940038  19949.72  0.20000    3989.94400  1656633602546      False   \n",
       "245     1430940039  19949.73  0.31016    6187.60800  1656633602546      False   \n",
       "246     1430940040  19949.74  0.09591    1913.38000  1656633602546      False   \n",
       "247     1430940041  19949.80  0.69401   13845.36000  1656633602546      False   \n",
       "248     1430940042  19950.00  4.40000   87780.00000  1656633602546      False   \n",
       "\n",
       "     delete  \n",
       "0      True  \n",
       "1      True  \n",
       "2      True  \n",
       "3      True  \n",
       "4      True  \n",
       "..      ...  \n",
       "244    True  \n",
       "245    True  \n",
       "246    True  \n",
       "247    True  \n",
       "248    True  \n",
       "\n",
       "[249 rows x 7 columns]"
      ]
     },
     "execution_count": 187,
     "metadata": {},
     "output_type": "execute_result"
    }
   ],
   "source": [
    "df"
   ]
  },
  {
   "cell_type": "code",
   "execution_count": 189,
   "id": "0bae4c88",
   "metadata": {},
   "outputs": [
    {
     "data": {
      "text/html": [
       "<div>\n",
       "<style scoped>\n",
       "    .dataframe tbody tr th:only-of-type {\n",
       "        vertical-align: middle;\n",
       "    }\n",
       "\n",
       "    .dataframe tbody tr th {\n",
       "        vertical-align: top;\n",
       "    }\n",
       "\n",
       "    .dataframe thead th {\n",
       "        text-align: right;\n",
       "    }\n",
       "</style>\n",
       "<table border=\"1\" class=\"dataframe\">\n",
       "  <thead>\n",
       "    <tr style=\"text-align: right;\">\n",
       "      <th></th>\n",
       "      <th>Serial Number</th>\n",
       "      <th>Close</th>\n",
       "      <th>Volume</th>\n",
       "      <th>Price-Volume</th>\n",
       "      <th>Unix</th>\n",
       "      <th>Trade Log</th>\n",
       "      <th>delete</th>\n",
       "      <th>Quotient</th>\n",
       "    </tr>\n",
       "  </thead>\n",
       "  <tbody>\n",
       "    <tr>\n",
       "      <th>0</th>\n",
       "      <td>1430939794</td>\n",
       "      <td>19942.21</td>\n",
       "      <td>0.00277</td>\n",
       "      <td>55.23992</td>\n",
       "      <td>1656633600003</td>\n",
       "      <td>True</td>\n",
       "      <td>True</td>\n",
       "      <td>1656633600</td>\n",
       "    </tr>\n",
       "    <tr>\n",
       "      <th>1</th>\n",
       "      <td>1430939795</td>\n",
       "      <td>19942.22</td>\n",
       "      <td>0.00133</td>\n",
       "      <td>26.52315</td>\n",
       "      <td>1656633600005</td>\n",
       "      <td>False</td>\n",
       "      <td>True</td>\n",
       "      <td>1656633600</td>\n",
       "    </tr>\n",
       "    <tr>\n",
       "      <th>2</th>\n",
       "      <td>1430939796</td>\n",
       "      <td>19942.21</td>\n",
       "      <td>0.00109</td>\n",
       "      <td>21.73701</td>\n",
       "      <td>1656633600007</td>\n",
       "      <td>True</td>\n",
       "      <td>True</td>\n",
       "      <td>1656633600</td>\n",
       "    </tr>\n",
       "    <tr>\n",
       "      <th>3</th>\n",
       "      <td>1430939797</td>\n",
       "      <td>19942.22</td>\n",
       "      <td>0.00109</td>\n",
       "      <td>21.73702</td>\n",
       "      <td>1656633600008</td>\n",
       "      <td>False</td>\n",
       "      <td>True</td>\n",
       "      <td>1656633600</td>\n",
       "    </tr>\n",
       "    <tr>\n",
       "      <th>4</th>\n",
       "      <td>1430939798</td>\n",
       "      <td>19940.97</td>\n",
       "      <td>0.00180</td>\n",
       "      <td>35.89375</td>\n",
       "      <td>1656633600009</td>\n",
       "      <td>True</td>\n",
       "      <td>True</td>\n",
       "      <td>1656633600</td>\n",
       "    </tr>\n",
       "  </tbody>\n",
       "</table>\n",
       "</div>"
      ],
      "text/plain": [
       "   Serial Number     Close   Volume  Price-Volume           Unix  Trade Log  \\\n",
       "0     1430939794  19942.21  0.00277      55.23992  1656633600003       True   \n",
       "1     1430939795  19942.22  0.00133      26.52315  1656633600005      False   \n",
       "2     1430939796  19942.21  0.00109      21.73701  1656633600007       True   \n",
       "3     1430939797  19942.22  0.00109      21.73702  1656633600008      False   \n",
       "4     1430939798  19940.97  0.00180      35.89375  1656633600009       True   \n",
       "\n",
       "   delete    Quotient  \n",
       "0    True  1656633600  \n",
       "1    True  1656633600  \n",
       "2    True  1656633600  \n",
       "3    True  1656633600  \n",
       "4    True  1656633600  "
      ]
     },
     "execution_count": 189,
     "metadata": {},
     "output_type": "execute_result"
    }
   ],
   "source": [
    "df['Quotient'] = df['Unix']//1000\n",
    "df.head()"
   ]
  },
  {
   "cell_type": "code",
   "execution_count": 190,
   "id": "30c90cb6",
   "metadata": {},
   "outputs": [],
   "source": [
    "df_High=  df.groupby('Quotient')['Close'].max()\n",
    "df_Low =  df.groupby('Quotient')['Close'].min()"
   ]
  },
  {
   "cell_type": "code",
   "execution_count": 191,
   "id": "2182ff40",
   "metadata": {},
   "outputs": [],
   "source": [
    "df_Volume =  df.groupby('Quotient')['Volume'].sum()\n"
   ]
  },
  {
   "cell_type": "code",
   "execution_count": 192,
   "id": "fd3fe191",
   "metadata": {},
   "outputs": [
    {
     "data": {
      "text/html": [
       "<div>\n",
       "<style scoped>\n",
       "    .dataframe tbody tr th:only-of-type {\n",
       "        vertical-align: middle;\n",
       "    }\n",
       "\n",
       "    .dataframe tbody tr th {\n",
       "        vertical-align: top;\n",
       "    }\n",
       "\n",
       "    .dataframe thead th {\n",
       "        text-align: right;\n",
       "    }\n",
       "</style>\n",
       "<table border=\"1\" class=\"dataframe\">\n",
       "  <thead>\n",
       "    <tr style=\"text-align: right;\">\n",
       "      <th></th>\n",
       "      <th>Serial Number</th>\n",
       "      <th>Close</th>\n",
       "      <th>Volume</th>\n",
       "      <th>Price-Volume</th>\n",
       "      <th>Unix</th>\n",
       "      <th>Trade Log</th>\n",
       "      <th>delete</th>\n",
       "      <th>Quotient</th>\n",
       "    </tr>\n",
       "  </thead>\n",
       "  <tbody>\n",
       "    <tr>\n",
       "      <th>0</th>\n",
       "      <td>1430939794</td>\n",
       "      <td>19942.21</td>\n",
       "      <td>0.00277</td>\n",
       "      <td>55.23992</td>\n",
       "      <td>1656633600003</td>\n",
       "      <td>True</td>\n",
       "      <td>True</td>\n",
       "      <td>1656633600</td>\n",
       "    </tr>\n",
       "    <tr>\n",
       "      <th>1</th>\n",
       "      <td>1430939795</td>\n",
       "      <td>19942.22</td>\n",
       "      <td>0.00133</td>\n",
       "      <td>26.52315</td>\n",
       "      <td>1656633600005</td>\n",
       "      <td>False</td>\n",
       "      <td>True</td>\n",
       "      <td>1656633600</td>\n",
       "    </tr>\n",
       "    <tr>\n",
       "      <th>2</th>\n",
       "      <td>1430939796</td>\n",
       "      <td>19942.21</td>\n",
       "      <td>0.00109</td>\n",
       "      <td>21.73701</td>\n",
       "      <td>1656633600007</td>\n",
       "      <td>True</td>\n",
       "      <td>True</td>\n",
       "      <td>1656633600</td>\n",
       "    </tr>\n",
       "    <tr>\n",
       "      <th>3</th>\n",
       "      <td>1430939797</td>\n",
       "      <td>19942.22</td>\n",
       "      <td>0.00109</td>\n",
       "      <td>21.73702</td>\n",
       "      <td>1656633600008</td>\n",
       "      <td>False</td>\n",
       "      <td>True</td>\n",
       "      <td>1656633600</td>\n",
       "    </tr>\n",
       "    <tr>\n",
       "      <th>4</th>\n",
       "      <td>1430939798</td>\n",
       "      <td>19940.97</td>\n",
       "      <td>0.00180</td>\n",
       "      <td>35.89375</td>\n",
       "      <td>1656633600009</td>\n",
       "      <td>True</td>\n",
       "      <td>True</td>\n",
       "      <td>1656633600</td>\n",
       "    </tr>\n",
       "  </tbody>\n",
       "</table>\n",
       "</div>"
      ],
      "text/plain": [
       "   Serial Number     Close   Volume  Price-Volume           Unix  Trade Log  \\\n",
       "0     1430939794  19942.21  0.00277      55.23992  1656633600003       True   \n",
       "1     1430939795  19942.22  0.00133      26.52315  1656633600005      False   \n",
       "2     1430939796  19942.21  0.00109      21.73701  1656633600007       True   \n",
       "3     1430939797  19942.22  0.00109      21.73702  1656633600008      False   \n",
       "4     1430939798  19940.97  0.00180      35.89375  1656633600009       True   \n",
       "\n",
       "   delete    Quotient  \n",
       "0    True  1656633600  \n",
       "1    True  1656633600  \n",
       "2    True  1656633600  \n",
       "3    True  1656633600  \n",
       "4    True  1656633600  "
      ]
     },
     "execution_count": 192,
     "metadata": {},
     "output_type": "execute_result"
    }
   ],
   "source": [
    "df.head()"
   ]
  },
  {
   "cell_type": "code",
   "execution_count": 193,
   "id": "2e163167",
   "metadata": {},
   "outputs": [],
   "source": [
    "for i in range(len(df['Close'])):\n",
    "    df.loc[i,'TimeStamp1'] = datetime.datetime.fromtimestamp((df.loc[i,'Unix'])/1000 ).strftime('%Y-%m-%d %H:%M:%S.%f').split('.')[0]"
   ]
  },
  {
   "cell_type": "code",
   "execution_count": 194,
   "id": "94e7bab6",
   "metadata": {},
   "outputs": [
    {
     "data": {
      "text/plain": [
       "Index(['2022-07-01 05:30:00', '2022-07-01 05:30:01', '2022-07-01 05:30:02'], dtype='object', name='TimeStamp1')"
      ]
     },
     "execution_count": 194,
     "metadata": {},
     "output_type": "execute_result"
    }
   ],
   "source": [
    "df_TimeStamp = df.groupby('TimeStamp1')['TimeStamp1']\n",
    "timeframe = df_TimeStamp.unique()\n",
    "timeframe = pd.DataFrame(timeframe)\n",
    "timeframe.index"
   ]
  },
  {
   "cell_type": "code",
   "execution_count": 195,
   "id": "c2b365bf",
   "metadata": {},
   "outputs": [],
   "source": [
    "data = pd.DataFrame(df_High)\n"
   ]
  },
  {
   "cell_type": "code",
   "execution_count": 196,
   "id": "e12542e7",
   "metadata": {},
   "outputs": [
    {
     "data": {
      "text/html": [
       "<div>\n",
       "<style scoped>\n",
       "    .dataframe tbody tr th:only-of-type {\n",
       "        vertical-align: middle;\n",
       "    }\n",
       "\n",
       "    .dataframe tbody tr th {\n",
       "        vertical-align: top;\n",
       "    }\n",
       "\n",
       "    .dataframe thead th {\n",
       "        text-align: right;\n",
       "    }\n",
       "</style>\n",
       "<table border=\"1\" class=\"dataframe\">\n",
       "  <thead>\n",
       "    <tr style=\"text-align: right;\">\n",
       "      <th></th>\n",
       "      <th>Close</th>\n",
       "    </tr>\n",
       "    <tr>\n",
       "      <th>Quotient</th>\n",
       "      <th></th>\n",
       "    </tr>\n",
       "  </thead>\n",
       "  <tbody>\n",
       "    <tr>\n",
       "      <th>1656633600</th>\n",
       "      <td>19956.80</td>\n",
       "    </tr>\n",
       "    <tr>\n",
       "      <th>1656633601</th>\n",
       "      <td>19950.65</td>\n",
       "    </tr>\n",
       "    <tr>\n",
       "      <th>1656633602</th>\n",
       "      <td>19950.52</td>\n",
       "    </tr>\n",
       "  </tbody>\n",
       "</table>\n",
       "</div>"
      ],
      "text/plain": [
       "               Close\n",
       "Quotient            \n",
       "1656633600  19956.80\n",
       "1656633601  19950.65\n",
       "1656633602  19950.52"
      ]
     },
     "execution_count": 196,
     "metadata": {},
     "output_type": "execute_result"
    }
   ],
   "source": [
    "data.head()"
   ]
  },
  {
   "cell_type": "code",
   "execution_count": 197,
   "id": "ff6dacde",
   "metadata": {},
   "outputs": [],
   "source": [
    "data['Volume'] = np.array(df_Volume)\n",
    "data['High'] = df_High\n",
    "data['Low'] = df_Low"
   ]
  },
  {
   "cell_type": "code",
   "execution_count": 198,
   "id": "7fe1b606",
   "metadata": {},
   "outputs": [],
   "source": [
    "df.index = df['Quotient']"
   ]
  },
  {
   "cell_type": "code",
   "execution_count": 199,
   "id": "37c69403",
   "metadata": {},
   "outputs": [],
   "source": [
    "df = df.drop(['Quotient'] , axis =1 )"
   ]
  },
  {
   "cell_type": "code",
   "execution_count": 200,
   "id": "e55a32d2",
   "metadata": {},
   "outputs": [],
   "source": [
    "close_df =[]\n",
    "open_df =[]\n",
    "for i in range(len(data)):\n",
    "    index = data.index[i]\n",
    "\n",
    "    t = np.array(df.loc[index]['Close'])\n",
    "    try:\n",
    "#         print(t[-1])\n",
    "#         print('-')\n",
    "        open_df.append(t[0])\n",
    "        close_df.append(t[-1])\n",
    "    except:\n",
    "#         print(np.nan)\n",
    "        open_df.append(np.nan)\n",
    "        close_df.append(np.nan)"
   ]
  },
  {
   "cell_type": "code",
   "execution_count": 201,
   "id": "18158f69",
   "metadata": {},
   "outputs": [],
   "source": [
    "data['Close'] = close_df\n",
    "data['Open'] = open_df"
   ]
  },
  {
   "cell_type": "code",
   "execution_count": 202,
   "id": "162aa800",
   "metadata": {},
   "outputs": [],
   "source": [
    "data['TimeStamp'] = timeframe.index"
   ]
  },
  {
   "cell_type": "code",
   "execution_count": 203,
   "id": "46e5054d",
   "metadata": {},
   "outputs": [
    {
     "data": {
      "text/html": [
       "<div>\n",
       "<style scoped>\n",
       "    .dataframe tbody tr th:only-of-type {\n",
       "        vertical-align: middle;\n",
       "    }\n",
       "\n",
       "    .dataframe tbody tr th {\n",
       "        vertical-align: top;\n",
       "    }\n",
       "\n",
       "    .dataframe thead th {\n",
       "        text-align: right;\n",
       "    }\n",
       "</style>\n",
       "<table border=\"1\" class=\"dataframe\">\n",
       "  <thead>\n",
       "    <tr style=\"text-align: right;\">\n",
       "      <th></th>\n",
       "      <th>Close</th>\n",
       "      <th>Volume</th>\n",
       "      <th>High</th>\n",
       "      <th>Low</th>\n",
       "      <th>Open</th>\n",
       "      <th>TimeStamp</th>\n",
       "    </tr>\n",
       "    <tr>\n",
       "      <th>Quotient</th>\n",
       "      <th></th>\n",
       "      <th></th>\n",
       "      <th></th>\n",
       "      <th></th>\n",
       "      <th></th>\n",
       "      <th></th>\n",
       "    </tr>\n",
       "  </thead>\n",
       "  <tbody>\n",
       "    <tr>\n",
       "      <th>1656633600</th>\n",
       "      <td>19951.44</td>\n",
       "      <td>12.41843</td>\n",
       "      <td>19956.80</td>\n",
       "      <td>19939.96</td>\n",
       "      <td>19942.21</td>\n",
       "      <td>2022-07-01 05:30:00</td>\n",
       "    </tr>\n",
       "    <tr>\n",
       "      <th>1656633601</th>\n",
       "      <td>19950.53</td>\n",
       "      <td>4.33935</td>\n",
       "      <td>19950.65</td>\n",
       "      <td>19948.18</td>\n",
       "      <td>19950.65</td>\n",
       "      <td>2022-07-01 05:30:01</td>\n",
       "    </tr>\n",
       "    <tr>\n",
       "      <th>1656633602</th>\n",
       "      <td>19950.00</td>\n",
       "      <td>8.00469</td>\n",
       "      <td>19950.52</td>\n",
       "      <td>19945.06</td>\n",
       "      <td>19950.52</td>\n",
       "      <td>2022-07-01 05:30:02</td>\n",
       "    </tr>\n",
       "  </tbody>\n",
       "</table>\n",
       "</div>"
      ],
      "text/plain": [
       "               Close    Volume      High       Low      Open  \\\n",
       "Quotient                                                       \n",
       "1656633600  19951.44  12.41843  19956.80  19939.96  19942.21   \n",
       "1656633601  19950.53   4.33935  19950.65  19948.18  19950.65   \n",
       "1656633602  19950.00   8.00469  19950.52  19945.06  19950.52   \n",
       "\n",
       "                      TimeStamp  \n",
       "Quotient                         \n",
       "1656633600  2022-07-01 05:30:00  \n",
       "1656633601  2022-07-01 05:30:01  \n",
       "1656633602  2022-07-01 05:30:02  "
      ]
     },
     "execution_count": 203,
     "metadata": {},
     "output_type": "execute_result"
    }
   ],
   "source": [
    "data.head()"
   ]
  },
  {
   "cell_type": "code",
   "execution_count": 204,
   "id": "d2fe6482",
   "metadata": {},
   "outputs": [],
   "source": [
    "data =data.reset_index()"
   ]
  },
  {
   "cell_type": "code",
   "execution_count": 205,
   "id": "63ff0966",
   "metadata": {},
   "outputs": [
    {
     "data": {
      "text/html": [
       "<div>\n",
       "<style scoped>\n",
       "    .dataframe tbody tr th:only-of-type {\n",
       "        vertical-align: middle;\n",
       "    }\n",
       "\n",
       "    .dataframe tbody tr th {\n",
       "        vertical-align: top;\n",
       "    }\n",
       "\n",
       "    .dataframe thead th {\n",
       "        text-align: right;\n",
       "    }\n",
       "</style>\n",
       "<table border=\"1\" class=\"dataframe\">\n",
       "  <thead>\n",
       "    <tr style=\"text-align: right;\">\n",
       "      <th></th>\n",
       "      <th>Quotient</th>\n",
       "      <th>Close</th>\n",
       "      <th>Volume</th>\n",
       "      <th>High</th>\n",
       "      <th>Low</th>\n",
       "      <th>Open</th>\n",
       "      <th>TimeStamp</th>\n",
       "    </tr>\n",
       "  </thead>\n",
       "  <tbody>\n",
       "    <tr>\n",
       "      <th>0</th>\n",
       "      <td>1656633600</td>\n",
       "      <td>19951.44</td>\n",
       "      <td>12.41843</td>\n",
       "      <td>19956.80</td>\n",
       "      <td>19939.96</td>\n",
       "      <td>19942.21</td>\n",
       "      <td>2022-07-01 05:30:00</td>\n",
       "    </tr>\n",
       "    <tr>\n",
       "      <th>1</th>\n",
       "      <td>1656633601</td>\n",
       "      <td>19950.53</td>\n",
       "      <td>4.33935</td>\n",
       "      <td>19950.65</td>\n",
       "      <td>19948.18</td>\n",
       "      <td>19950.65</td>\n",
       "      <td>2022-07-01 05:30:01</td>\n",
       "    </tr>\n",
       "    <tr>\n",
       "      <th>2</th>\n",
       "      <td>1656633602</td>\n",
       "      <td>19950.00</td>\n",
       "      <td>8.00469</td>\n",
       "      <td>19950.52</td>\n",
       "      <td>19945.06</td>\n",
       "      <td>19950.52</td>\n",
       "      <td>2022-07-01 05:30:02</td>\n",
       "    </tr>\n",
       "  </tbody>\n",
       "</table>\n",
       "</div>"
      ],
      "text/plain": [
       "     Quotient     Close    Volume      High       Low      Open  \\\n",
       "0  1656633600  19951.44  12.41843  19956.80  19939.96  19942.21   \n",
       "1  1656633601  19950.53   4.33935  19950.65  19948.18  19950.65   \n",
       "2  1656633602  19950.00   8.00469  19950.52  19945.06  19950.52   \n",
       "\n",
       "             TimeStamp  \n",
       "0  2022-07-01 05:30:00  \n",
       "1  2022-07-01 05:30:01  \n",
       "2  2022-07-01 05:30:02  "
      ]
     },
     "execution_count": 205,
     "metadata": {},
     "output_type": "execute_result"
    }
   ],
   "source": [
    "data.head()"
   ]
  },
  {
   "cell_type": "code",
   "execution_count": null,
   "id": "8bf7368b",
   "metadata": {},
   "outputs": [],
   "source": []
  }
 ],
 "metadata": {
  "kernelspec": {
   "display_name": "Python 3 (ipykernel)",
   "language": "python",
   "name": "python3"
  },
  "language_info": {
   "codemirror_mode": {
    "name": "ipython",
    "version": 3
   },
   "file_extension": ".py",
   "mimetype": "text/x-python",
   "name": "python",
   "nbconvert_exporter": "python",
   "pygments_lexer": "ipython3",
   "version": "3.9.12"
  }
 },
 "nbformat": 4,
 "nbformat_minor": 5
}
