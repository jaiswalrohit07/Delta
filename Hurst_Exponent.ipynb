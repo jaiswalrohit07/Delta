{
 "cells": [
  {
   "cell_type": "code",
   "execution_count": 1,
   "metadata": {},
   "outputs": [],
   "source": [
    "#importing packages\n",
    "import numpy as np\n",
    "import pandas as pd\n",
    "import matplotlib.pyplot as plt\n",
    "import yfinance as yf\n",
    "import statsmodels.api as sm\n",
    "import scipy.stats as sps"
   ]
  },
  {
   "cell_type": "code",
   "execution_count": 2,
   "metadata": {},
   "outputs": [
    {
     "name": "stdout",
     "output_type": "stream",
     "text": [
      "[*********************100%***********************]  1 of 1 completed\n"
     ]
    }
   ],
   "source": [
    "#specifying the maximum power of 2\n",
    "power = 10\n",
    "#the rolling sample length\n",
    "n = 2**power\n",
    "ticker = 'BTC-USD' \n",
    "start = '2015-01-01'\n",
    "end = '2022-05-24'\n",
    "#downloading data\n",
    "data = yf.download(ticker, start, end)\n",
    "raw_data = data['Close']\n",
    "prices = np.array(raw_data)[1:]\n",
    "returns = np.array(raw_data)[1:]/np.array(raw_data)[:-1] - 1\n",
    "#initialising arrays\n",
    "hursts = np.array([])\n",
    "tstats = np.array([])\n",
    "pvalues = np.array([])\n",
    "#calculating the rolling Hurst exponent\n",
    "for t in np.arange(n,len(returns)+1):\n",
    "    #specifying the subsample\n",
    "    data = returns[t-n:t]\n",
    "    X = np.arange(2, power+1)\n",
    "    Y = np.array([])\n",
    "    for p in X:\n",
    "        m = 2**p\n",
    "        s = 2**(power-p)\n",
    "        rs_array = np.array([])\n",
    "        #moving across subsamples\n",
    "        for i in np.arange(0,s):\n",
    "            subsample = data[i*m:(i+1)*m]\n",
    "            mean = np.average(subsample)\n",
    "            deviate = np.cumsum(subsample-mean)\n",
    "            difference = max(deviate) - min(deviate)\n",
    "            stdev = np.std(subsample)\n",
    "            rescaled_range = difference/stdev\n",
    "            rs_array = np.append(rs_array, rescaled_range)\n",
    "        #calculating the log2 of average rescaled range\n",
    "        Y = np.append(Y, np.log2(np.average(rs_array)))\n",
    "    reg = sm.OLS(Y, sm.add_constant(X))\n",
    "    res = reg.fit()\n",
    "    hurst = res.params[1]\n",
    "    tstat = (res.params[1]-0.5)/res.bse[1]\n",
    "    pvalue = 2*(1 - sps.t.cdf(abs(tstat),res.df_resid))\n",
    "    hursts = np.append(hursts, hurst)\n",
    "    tstats = np.append(tstats, tstat)\n",
    "    pvalues = np.append(pvalues, pvalue)\n",
    "    \n"
   ]
  },
  {
   "cell_type": "code",
   "execution_count": 3,
   "metadata": {},
   "outputs": [
    {
     "data": {
      "image/png": "[encoded data removed]",
      "text/plain": [
       "<Figure size 432x288 with 1 Axes>"
      ]
     },
     "metadata": {
      "needs_background": "light"
     },
     "output_type": "display_data"
    }
   ],
   "source": [
    "#visualising the Hurst exponent\n",
    "plt.figure(1)\n",
    "plt.rc('xtick',labelsize = 8)\n",
    "plt.ylim(0.48,0.68)\n",
    "plt.plot(raw_data.index[n:],hursts)\n",
    "plt.plot(raw_data.index[n:],np.ones(len(hursts))*0.5)\n",
    "plt.legend(['hurst exponent'])\n",
    "plt.show()\n",
    "#visualising the t-stat and critical values\n",
    "# plt.figure(2)\n",
    "# plt.rc('xtick',labelsize = 8)\n",
    "# plt.plot(raw_data.index[n:],tstats)\n",
    "# plt.plot(raw_data.index[n:],np.ones(len(tstats))*sps.t.ppf(0.005,res.df_resid))\n",
    "# plt.plot(raw_data.index[n:],np.ones(len(tstats))*sps.t.ppf(0.995,res.df_resid))\n",
    "# plt.legend()\n",
    "# plt.show()"
   ]
  },
  {
   "cell_type": "code",
   "execution_count": 6,
   "metadata": {},
   "outputs": [
    {
     "data": {
      "text/plain": [
       "0.606011887104873"
      ]
     },
     "execution_count": 6,
     "metadata": {},
     "output_type": "execute_result"
    }
   ],
   "source": [
    "hursts[-100]"
   ]
  },
  {
   "cell_type": "code",
   "execution_count": 8,
   "metadata": {},
   "outputs": [
    {
     "data": {
      "text/plain": [
       "array([ 0.01371851,  0.07615813, -0.02773962, ...,  0.00792741,\n",
       "        0.03028979, -0.04039123])"
      ]
     },
     "execution_count": 8,
     "metadata": {},
     "output_type": "execute_result"
    }
   ],
   "source": [
    "data"
   ]
  },
  {
   "cell_type": "code",
   "execution_count": 6,
   "metadata": {},
   "outputs": [
    {
     "data": {
      "text/plain": [
       "'2018-01-01'"
      ]
     },
     "execution_count": 6,
     "metadata": {},
     "output_type": "execute_result"
    }
   ],
   "source": [
    "start\n"
   ]
  },
  {
   "cell_type": "code",
   "execution_count": 7,
   "metadata": {},
   "outputs": [
    {
     "name": "stdout",
     "output_type": "stream",
     "text": [
      "Object `plotly` not found.\n"
     ]
    }
   ],
   "source": [
    "plotly?\n"
   ]
  },
  {
   "cell_type": "code",
   "execution_count": 8,
   "metadata": {},
   "outputs": [],
   "source": [
    "import plotly.graph_objects as go \n",
    "from datetime import datetime\n",
    "data = pd.DataFrame(data)"
   ]
  },
  {
   "cell_type": "code",
   "execution_count": 9,
   "metadata": {},
   "outputs": [
    {
     "data": {
      "text/html": [
       "<div>\n",
       "<style scoped>\n",
       "    .dataframe tbody tr th:only-of-type {\n",
       "        vertical-align: middle;\n",
       "    }\n",
       "\n",
       "    .dataframe tbody tr th {\n",
       "        vertical-align: top;\n",
       "    }\n",
       "\n",
       "    .dataframe thead th {\n",
       "        text-align: right;\n",
       "    }\n",
       "</style>\n",
       "<table border=\"1\" class=\"dataframe\">\n",
       "  <thead>\n",
       "    <tr style=\"text-align: right;\">\n",
       "      <th></th>\n",
       "      <th>0</th>\n",
       "    </tr>\n",
       "  </thead>\n",
       "  <tbody>\n",
       "    <tr>\n",
       "      <th>0</th>\n",
       "      <td>0.013719</td>\n",
       "    </tr>\n",
       "    <tr>\n",
       "      <th>1</th>\n",
       "      <td>0.076158</td>\n",
       "    </tr>\n",
       "    <tr>\n",
       "      <th>2</th>\n",
       "      <td>-0.027740</td>\n",
       "    </tr>\n",
       "    <tr>\n",
       "      <th>3</th>\n",
       "      <td>0.040407</td>\n",
       "    </tr>\n",
       "    <tr>\n",
       "      <th>4</th>\n",
       "      <td>0.002046</td>\n",
       "    </tr>\n",
       "    <tr>\n",
       "      <th>...</th>\n",
       "      <td>...</td>\n",
       "    </tr>\n",
       "    <tr>\n",
       "      <th>1019</th>\n",
       "      <td>0.055503</td>\n",
       "    </tr>\n",
       "    <tr>\n",
       "      <th>1020</th>\n",
       "      <td>-0.036735</td>\n",
       "    </tr>\n",
       "    <tr>\n",
       "      <th>1021</th>\n",
       "      <td>0.007927</td>\n",
       "    </tr>\n",
       "    <tr>\n",
       "      <th>1022</th>\n",
       "      <td>0.030290</td>\n",
       "    </tr>\n",
       "    <tr>\n",
       "      <th>1023</th>\n",
       "      <td>-0.040391</td>\n",
       "    </tr>\n",
       "  </tbody>\n",
       "</table>\n",
       "<p>1024 rows × 1 columns</p>\n",
       "</div>"
      ],
      "text/plain": [
       "             0\n",
       "0     0.013719\n",
       "1     0.076158\n",
       "2    -0.027740\n",
       "3     0.040407\n",
       "4     0.002046\n",
       "...        ...\n",
       "1019  0.055503\n",
       "1020 -0.036735\n",
       "1021  0.007927\n",
       "1022  0.030290\n",
       "1023 -0.040391\n",
       "\n",
       "[1024 rows x 1 columns]"
      ]
     },
     "execution_count": 9,
     "metadata": {},
     "output_type": "execute_result"
    }
   ],
   "source": [
    "data"
   ]
  },
  {
   "cell_type": "code",
   "execution_count": 9,
   "metadata": {},
   "outputs": [
    {
     "name": "stdout",
     "output_type": "stream",
     "text": [
      "[*********************100%***********************]  1 of 1 completed\n"
     ]
    }
   ],
   "source": [
    "dt = yf.download(ticker, start, end)"
   ]
  },
  {
   "cell_type": "code",
   "execution_count": 10,
   "metadata": {},
   "outputs": [
    {
     "data": {
      "text/html": [
       "<div>\n",
       "<style scoped>\n",
       "    .dataframe tbody tr th:only-of-type {\n",
       "        vertical-align: middle;\n",
       "    }\n",
       "\n",
       "    .dataframe tbody tr th {\n",
       "        vertical-align: top;\n",
       "    }\n",
       "\n",
       "    .dataframe thead th {\n",
       "        text-align: right;\n",
       "    }\n",
       "</style>\n",
       "<table border=\"1\" class=\"dataframe\">\n",
       "  <thead>\n",
       "    <tr style=\"text-align: right;\">\n",
       "      <th></th>\n",
       "      <th>Open</th>\n",
       "      <th>High</th>\n",
       "      <th>Low</th>\n",
       "      <th>Close</th>\n",
       "      <th>Adj Close</th>\n",
       "      <th>Volume</th>\n",
       "    </tr>\n",
       "    <tr>\n",
       "      <th>Date</th>\n",
       "      <th></th>\n",
       "      <th></th>\n",
       "      <th></th>\n",
       "      <th></th>\n",
       "      <th></th>\n",
       "      <th></th>\n",
       "    </tr>\n",
       "  </thead>\n",
       "  <tbody>\n",
       "    <tr>\n",
       "      <th>2017-12-31</th>\n",
       "      <td>12897.700195</td>\n",
       "      <td>14377.400391</td>\n",
       "      <td>12755.599609</td>\n",
       "      <td>14156.400391</td>\n",
       "      <td>14156.400391</td>\n",
       "      <td>12136299520</td>\n",
       "    </tr>\n",
       "    <tr>\n",
       "      <th>2018-01-01</th>\n",
       "      <td>14112.200195</td>\n",
       "      <td>14112.200195</td>\n",
       "      <td>13154.700195</td>\n",
       "      <td>13657.200195</td>\n",
       "      <td>13657.200195</td>\n",
       "      <td>10291200000</td>\n",
       "    </tr>\n",
       "    <tr>\n",
       "      <th>2018-01-02</th>\n",
       "      <td>13625.000000</td>\n",
       "      <td>15444.599609</td>\n",
       "      <td>13163.599609</td>\n",
       "      <td>14982.099609</td>\n",
       "      <td>14982.099609</td>\n",
       "      <td>16846600192</td>\n",
       "    </tr>\n",
       "    <tr>\n",
       "      <th>2018-01-03</th>\n",
       "      <td>14978.200195</td>\n",
       "      <td>15572.799805</td>\n",
       "      <td>14844.500000</td>\n",
       "      <td>15201.000000</td>\n",
       "      <td>15201.000000</td>\n",
       "      <td>16871900160</td>\n",
       "    </tr>\n",
       "    <tr>\n",
       "      <th>2018-01-04</th>\n",
       "      <td>15270.700195</td>\n",
       "      <td>15739.700195</td>\n",
       "      <td>14522.200195</td>\n",
       "      <td>15599.200195</td>\n",
       "      <td>15599.200195</td>\n",
       "      <td>21783199744</td>\n",
       "    </tr>\n",
       "    <tr>\n",
       "      <th>...</th>\n",
       "      <td>...</td>\n",
       "      <td>...</td>\n",
       "      <td>...</td>\n",
       "      <td>...</td>\n",
       "      <td>...</td>\n",
       "      <td>...</td>\n",
       "    </tr>\n",
       "    <tr>\n",
       "      <th>2018-04-05</th>\n",
       "      <td>6848.649902</td>\n",
       "      <td>6933.819824</td>\n",
       "      <td>6644.799805</td>\n",
       "      <td>6811.470215</td>\n",
       "      <td>6811.470215</td>\n",
       "      <td>5639320064</td>\n",
       "    </tr>\n",
       "    <tr>\n",
       "      <th>2018-04-06</th>\n",
       "      <td>6815.959961</td>\n",
       "      <td>6857.490234</td>\n",
       "      <td>6575.000000</td>\n",
       "      <td>6636.319824</td>\n",
       "      <td>6636.319824</td>\n",
       "      <td>3766810112</td>\n",
       "    </tr>\n",
       "    <tr>\n",
       "      <th>2018-04-07</th>\n",
       "      <td>6630.509766</td>\n",
       "      <td>7050.540039</td>\n",
       "      <td>6630.509766</td>\n",
       "      <td>6911.089844</td>\n",
       "      <td>6911.089844</td>\n",
       "      <td>3976610048</td>\n",
       "    </tr>\n",
       "    <tr>\n",
       "      <th>2018-04-08</th>\n",
       "      <td>6919.979980</td>\n",
       "      <td>7111.560059</td>\n",
       "      <td>6919.979980</td>\n",
       "      <td>7023.520020</td>\n",
       "      <td>7023.520020</td>\n",
       "      <td>3652499968</td>\n",
       "    </tr>\n",
       "    <tr>\n",
       "      <th>2018-04-09</th>\n",
       "      <td>7044.319824</td>\n",
       "      <td>7178.109863</td>\n",
       "      <td>6661.990234</td>\n",
       "      <td>6770.729980</td>\n",
       "      <td>6770.729980</td>\n",
       "      <td>4894060032</td>\n",
       "    </tr>\n",
       "  </tbody>\n",
       "</table>\n",
       "<p>100 rows × 6 columns</p>\n",
       "</div>"
      ],
      "text/plain": [
       "                    Open          High           Low         Close  \\\n",
       "Date                                                                 \n",
       "2017-12-31  12897.700195  14377.400391  12755.599609  14156.400391   \n",
       "2018-01-01  14112.200195  14112.200195  13154.700195  13657.200195   \n",
       "2018-01-02  13625.000000  15444.599609  13163.599609  14982.099609   \n",
       "2018-01-03  14978.200195  15572.799805  14844.500000  15201.000000   \n",
       "2018-01-04  15270.700195  15739.700195  14522.200195  15599.200195   \n",
       "...                  ...           ...           ...           ...   \n",
       "2018-04-05   6848.649902   6933.819824   6644.799805   6811.470215   \n",
       "2018-04-06   6815.959961   6857.490234   6575.000000   6636.319824   \n",
       "2018-04-07   6630.509766   7050.540039   6630.509766   6911.089844   \n",
       "2018-04-08   6919.979980   7111.560059   6919.979980   7023.520020   \n",
       "2018-04-09   7044.319824   7178.109863   6661.990234   6770.729980   \n",
       "\n",
       "               Adj Close       Volume  \n",
       "Date                                   \n",
       "2017-12-31  14156.400391  12136299520  \n",
       "2018-01-01  13657.200195  10291200000  \n",
       "2018-01-02  14982.099609  16846600192  \n",
       "2018-01-03  15201.000000  16871900160  \n",
       "2018-01-04  15599.200195  21783199744  \n",
       "...                  ...          ...  \n",
       "2018-04-05   6811.470215   5639320064  \n",
       "2018-04-06   6636.319824   3766810112  \n",
       "2018-04-07   6911.089844   3976610048  \n",
       "2018-04-08   7023.520020   3652499968  \n",
       "2018-04-09   6770.729980   4894060032  \n",
       "\n",
       "[100 rows x 6 columns]"
      ]
     },
     "execution_count": 10,
     "metadata": {},
     "output_type": "execute_result"
    }
   ],
   "source": [
    "dt.head(100)"
   ]
  },
  {
   "cell_type": "code",
   "execution_count": 20,
   "metadata": {},
   "outputs": [],
   "source": [
    "a = np.array(dt['Close'].tail(100))"
   ]
  },
  {
   "cell_type": "code",
   "execution_count": 21,
   "metadata": {},
   "outputs": [
    {
     "data": {
      "text/plain": [
       "array([42197.515625  , 42586.91796875, 44575.203125  , 43961.859375  ,\n",
       "       40538.01171875, 40030.9765625 , 40122.15625   , 38431.37890625,\n",
       "       37075.28125   , 38286.02734375, 37296.5703125 , 38332.609375  ,\n",
       "       39214.21875   , 39105.1484375 , 37709.78515625, 43193.234375  ,\n",
       "       44354.63671875, 43924.1171875 , 42451.7890625 , 39137.60546875,\n",
       "       39400.5859375 , 38419.984375  , 38062.0390625 , 38737.26953125,\n",
       "       41982.92578125, 39437.4609375 , 38794.97265625, 38904.01171875,\n",
       "       37849.6640625 , 39666.75390625, 39338.78515625, 41143.9296875 ,\n",
       "       40951.37890625, 41801.15625   , 42190.65234375, 41247.82421875,\n",
       "       41077.99609375, 42358.80859375, 42892.95703125, 43960.93359375,\n",
       "       44348.73046875, 44500.828125  , 46820.4921875 , 47128.00390625,\n",
       "       47465.73046875, 47062.6640625 , 45538.67578125, 46281.64453125,\n",
       "       45868.94921875, 46453.56640625, 46622.67578125, 45555.9921875 ,\n",
       "       43206.73828125, 43503.84765625, 42287.6640625 , 42782.13671875,\n",
       "       42207.671875  , 39521.90234375, 40127.18359375, 41166.73046875,\n",
       "       39935.515625  , 40553.46484375, 40424.484375  , 39716.953125  ,\n",
       "       40826.21484375, 41502.75      , 41374.37890625, 40527.36328125,\n",
       "       39740.3203125 , 39486.73046875, 39469.29296875, 40458.30859375,\n",
       "       38117.4609375 , 39241.12109375, 39773.828125  , 38609.82421875,\n",
       "       37714.875     , 38469.09375   , 38529.328125  , 37750.453125  ,\n",
       "       39698.37109375, 36575.140625  , 36040.921875  , 35501.953125  ,\n",
       "       34059.265625  , 30296.953125  , 31022.90625   , 28936.35546875,\n",
       "       29047.75195312, 29283.10351562, 30101.265625  , 31305.11328125,\n",
       "       29862.91796875, 30425.85742188, 28720.27148438, 30314.33398438,\n",
       "       29200.74023438, 29432.2265625 , 30323.72265625, 29098.91015625])"
      ]
     },
     "execution_count": 21,
     "metadata": {},
     "output_type": "execute_result"
    }
   ],
   "source": [
    "a"
   ]
  },
  {
   "cell_type": "code",
   "execution_count": null,
   "metadata": {},
   "outputs": [],
   "source": []
  },
  {
   "cell_type": "code",
   "execution_count": 18,
   "metadata": {},
   "outputs": [],
   "source": [
    "dt['Hurst'], _, _ =  compute_Hc(dt['Close'].tail(100), kind='price', simplified=True)"
   ]
  },
  {
   "cell_type": "code",
   "execution_count": 22,
   "metadata": {},
   "outputs": [
    {
     "data": {
      "text/html": [
       "<div>\n",
       "<style scoped>\n",
       "    .dataframe tbody tr th:only-of-type {\n",
       "        vertical-align: middle;\n",
       "    }\n",
       "\n",
       "    .dataframe tbody tr th {\n",
       "        vertical-align: top;\n",
       "    }\n",
       "\n",
       "    .dataframe thead th {\n",
       "        text-align: right;\n",
       "    }\n",
       "</style>\n",
       "<table border=\"1\" class=\"dataframe\">\n",
       "  <thead>\n",
       "    <tr style=\"text-align: right;\">\n",
       "      <th></th>\n",
       "      <th>Open</th>\n",
       "      <th>High</th>\n",
       "      <th>Low</th>\n",
       "      <th>Close</th>\n",
       "      <th>Adj Close</th>\n",
       "      <th>Volume</th>\n",
       "      <th>Hurst</th>\n",
       "    </tr>\n",
       "    <tr>\n",
       "      <th>Date</th>\n",
       "      <th></th>\n",
       "      <th></th>\n",
       "      <th></th>\n",
       "      <th></th>\n",
       "      <th></th>\n",
       "      <th></th>\n",
       "      <th></th>\n",
       "    </tr>\n",
       "  </thead>\n",
       "  <tbody>\n",
       "    <tr>\n",
       "      <th>2017-12-31</th>\n",
       "      <td>12897.700195</td>\n",
       "      <td>14377.400391</td>\n",
       "      <td>12755.599609</td>\n",
       "      <td>14156.400391</td>\n",
       "      <td>14156.400391</td>\n",
       "      <td>12136299520</td>\n",
       "      <td>0.564366</td>\n",
       "    </tr>\n",
       "    <tr>\n",
       "      <th>2018-01-01</th>\n",
       "      <td>14112.200195</td>\n",
       "      <td>14112.200195</td>\n",
       "      <td>13154.700195</td>\n",
       "      <td>13657.200195</td>\n",
       "      <td>13657.200195</td>\n",
       "      <td>10291200000</td>\n",
       "      <td>0.564366</td>\n",
       "    </tr>\n",
       "    <tr>\n",
       "      <th>2018-01-02</th>\n",
       "      <td>13625.000000</td>\n",
       "      <td>15444.599609</td>\n",
       "      <td>13163.599609</td>\n",
       "      <td>14982.099609</td>\n",
       "      <td>14982.099609</td>\n",
       "      <td>16846600192</td>\n",
       "      <td>0.564366</td>\n",
       "    </tr>\n",
       "    <tr>\n",
       "      <th>2018-01-03</th>\n",
       "      <td>14978.200195</td>\n",
       "      <td>15572.799805</td>\n",
       "      <td>14844.500000</td>\n",
       "      <td>15201.000000</td>\n",
       "      <td>15201.000000</td>\n",
       "      <td>16871900160</td>\n",
       "      <td>0.564366</td>\n",
       "    </tr>\n",
       "    <tr>\n",
       "      <th>2018-01-04</th>\n",
       "      <td>15270.700195</td>\n",
       "      <td>15739.700195</td>\n",
       "      <td>14522.200195</td>\n",
       "      <td>15599.200195</td>\n",
       "      <td>15599.200195</td>\n",
       "      <td>21783199744</td>\n",
       "      <td>0.564366</td>\n",
       "    </tr>\n",
       "    <tr>\n",
       "      <th>...</th>\n",
       "      <td>...</td>\n",
       "      <td>...</td>\n",
       "      <td>...</td>\n",
       "      <td>...</td>\n",
       "      <td>...</td>\n",
       "      <td>...</td>\n",
       "      <td>...</td>\n",
       "    </tr>\n",
       "    <tr>\n",
       "      <th>2022-05-19</th>\n",
       "      <td>28720.359375</td>\n",
       "      <td>30430.751953</td>\n",
       "      <td>28708.955078</td>\n",
       "      <td>30314.333984</td>\n",
       "      <td>30314.333984</td>\n",
       "      <td>33773447707</td>\n",
       "      <td>0.564366</td>\n",
       "    </tr>\n",
       "    <tr>\n",
       "      <th>2022-05-20</th>\n",
       "      <td>30311.119141</td>\n",
       "      <td>30664.976562</td>\n",
       "      <td>28793.605469</td>\n",
       "      <td>29200.740234</td>\n",
       "      <td>29200.740234</td>\n",
       "      <td>30749382605</td>\n",
       "      <td>0.564366</td>\n",
       "    </tr>\n",
       "    <tr>\n",
       "      <th>2022-05-21</th>\n",
       "      <td>29199.859375</td>\n",
       "      <td>29588.869141</td>\n",
       "      <td>29027.394531</td>\n",
       "      <td>29432.226562</td>\n",
       "      <td>29432.226562</td>\n",
       "      <td>17274840442</td>\n",
       "      <td>0.564366</td>\n",
       "    </tr>\n",
       "    <tr>\n",
       "      <th>2022-05-22</th>\n",
       "      <td>29432.472656</td>\n",
       "      <td>30425.861328</td>\n",
       "      <td>29275.183594</td>\n",
       "      <td>30323.722656</td>\n",
       "      <td>30323.722656</td>\n",
       "      <td>21631532270</td>\n",
       "      <td>0.564366</td>\n",
       "    </tr>\n",
       "    <tr>\n",
       "      <th>2022-05-23</th>\n",
       "      <td>30309.396484</td>\n",
       "      <td>30590.585938</td>\n",
       "      <td>28975.560547</td>\n",
       "      <td>29098.910156</td>\n",
       "      <td>29098.910156</td>\n",
       "      <td>31483454557</td>\n",
       "      <td>0.564366</td>\n",
       "    </tr>\n",
       "  </tbody>\n",
       "</table>\n",
       "<p>1605 rows × 7 columns</p>\n",
       "</div>"
      ],
      "text/plain": [
       "                    Open          High           Low         Close  \\\n",
       "Date                                                                 \n",
       "2017-12-31  12897.700195  14377.400391  12755.599609  14156.400391   \n",
       "2018-01-01  14112.200195  14112.200195  13154.700195  13657.200195   \n",
       "2018-01-02  13625.000000  15444.599609  13163.599609  14982.099609   \n",
       "2018-01-03  14978.200195  15572.799805  14844.500000  15201.000000   \n",
       "2018-01-04  15270.700195  15739.700195  14522.200195  15599.200195   \n",
       "...                  ...           ...           ...           ...   \n",
       "2022-05-19  28720.359375  30430.751953  28708.955078  30314.333984   \n",
       "2022-05-20  30311.119141  30664.976562  28793.605469  29200.740234   \n",
       "2022-05-21  29199.859375  29588.869141  29027.394531  29432.226562   \n",
       "2022-05-22  29432.472656  30425.861328  29275.183594  30323.722656   \n",
       "2022-05-23  30309.396484  30590.585938  28975.560547  29098.910156   \n",
       "\n",
       "               Adj Close       Volume     Hurst  \n",
       "Date                                             \n",
       "2017-12-31  14156.400391  12136299520  0.564366  \n",
       "2018-01-01  13657.200195  10291200000  0.564366  \n",
       "2018-01-02  14982.099609  16846600192  0.564366  \n",
       "2018-01-03  15201.000000  16871900160  0.564366  \n",
       "2018-01-04  15599.200195  21783199744  0.564366  \n",
       "...                  ...          ...       ...  \n",
       "2022-05-19  30314.333984  33773447707  0.564366  \n",
       "2022-05-20  29200.740234  30749382605  0.564366  \n",
       "2022-05-21  29432.226562  17274840442  0.564366  \n",
       "2022-05-22  30323.722656  21631532270  0.564366  \n",
       "2022-05-23  29098.910156  31483454557  0.564366  \n",
       "\n",
       "[1605 rows x 7 columns]"
      ]
     },
     "execution_count": 22,
     "metadata": {},
     "output_type": "execute_result"
    }
   ],
   "source": [
    "dt"
   ]
  },
  {
   "cell_type": "code",
   "execution_count": null,
   "metadata": {},
   "outputs": [],
   "source": [
    "dt"
   ]
  },
  {
   "cell_type": "code",
   "execution_count": null,
   "metadata": {},
   "outputs": [],
   "source": []
  },
  {
   "cell_type": "code",
   "execution_count": null,
   "metadata": {},
   "outputs": [],
   "source": [
    "fig = go.Figure(data=[go.Candlestick(x=dt['Date'],\n",
    "                open=dt['Open'],\n",
    "                high=dt['High'],\n",
    "                low=dt['Low'],\n",
    "                close=dt['Close'])])"
   ]
  },
  {
   "cell_type": "code",
   "execution_count": null,
   "metadata": {},
   "outputs": [],
   "source": [
    "fig.show()"
   ]
  },
  {
   "cell_type": "code",
   "execution_count": 14,
   "metadata": {},
   "outputs": [],
   "source": [
    "# !pip install hurst\n",
    "from hurst import compute_Hc, random_walk"
   ]
  },
  {
   "cell_type": "code",
   "execution_count": 15,
   "metadata": {},
   "outputs": [],
   "source": [
    "H, c, data = compute_Hc(dt['Close'], kind='price', simplified=True)"
   ]
  },
  {
   "cell_type": "code",
   "execution_count": 18,
   "metadata": {},
   "outputs": [
    {
     "data": {
      "text/plain": [
       "0.8663054075503793"
      ]
     },
     "execution_count": 18,
     "metadata": {},
     "output_type": "execute_result"
    }
   ],
   "source": [
    "H"
   ]
  },
  {
   "cell_type": "code",
   "execution_count": 19,
   "metadata": {},
   "outputs": [
    {
     "data": {
      "text/plain": [
       "0.49795665754581986"
      ]
     },
     "execution_count": 19,
     "metadata": {},
     "output_type": "execute_result"
    }
   ],
   "source": [
    "c"
   ]
  },
  {
   "cell_type": "code",
   "execution_count": 20,
   "metadata": {},
   "outputs": [
    {
     "data": {
      "text/plain": [
       "[[10, 17, 31, 56, 100, 177, 316, 562, 1000, 1605],\n",
       " [4.22102321879837,\n",
       "  6.032449912018119,\n",
       "  9.706196445179314,\n",
       "  15.239594418260449,\n",
       "  25.413264612314496,\n",
       "  38.60587853265551,\n",
       "  64.96903446156072,\n",
       "  151.4076373261608,\n",
       "  111.94695438358298,\n",
       "  506.4926830067206]]"
      ]
     },
     "execution_count": 20,
     "metadata": {},
     "output_type": "execute_result"
    }
   ],
   "source": [
    "data"
   ]
  },
  {
   "cell_type": "code",
   "execution_count": 21,
   "metadata": {},
   "outputs": [
    {
     "data": {
      "image/png": "[encoded data removed]",
      "text/plain": [
       "<Figure size 432x288 with 1 Axes>"
      ]
     },
     "metadata": {
      "needs_background": "light"
     },
     "output_type": "display_data"
    },
    {
     "name": "stdout",
     "output_type": "stream",
     "text": [
      "H=0.8663, c=0.4980\n"
     ]
    }
   ],
   "source": [
    "f, ax = plt.subplots()\n",
    "ax.plot(data[0], c*data[0]**H, color=\"deepskyblue\")\n",
    "ax.scatter(data[0], data[1], color=\"purple\")\n",
    "ax.set_xscale('log')\n",
    "ax.set_yscale('log')\n",
    "ax.set_xlabel('Time interval')\n",
    "ax.set_ylabel('R/S ratio')\n",
    "ax.grid(True)\n",
    "plt.show()\n",
    "\n",
    "print(\"H={:.4f}, c={:.4f}\".format(H,c))"
   ]
  },
  {
   "cell_type": "code",
   "execution_count": null,
   "metadata": {},
   "outputs": [],
   "source": []
  }
 ],
 "metadata": {
  "kernelspec": {
   "display_name": "Python 3 (ipykernel)",
   "language": "python",
   "name": "python3"
  },
  "language_info": {
   "codemirror_mode": {
    "name": "ipython",
    "version": 3
   },
   "file_extension": ".py",
   "mimetype": "text/x-python",
   "name": "python",
   "nbconvert_exporter": "python",
   "pygments_lexer": "ipython3",
   "version": "3.9.12"
  }
 },
 "nbformat": 4,
 "nbformat_minor": 2
}
