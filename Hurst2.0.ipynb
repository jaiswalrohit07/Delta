{
 "cells": [
  {
   "cell_type": "code",
   "execution_count": 1,
   "id": "403e2181",
   "metadata": {},
   "outputs": [],
   "source": [
    "import numpy as np\n",
    "import pandas as pd\n",
    "import matplotlib.pyplot as plt\n",
    "import yfinance as yf\n",
    "import statsmodels.api as sm\n",
    "import scipy.stats as sps"
   ]
  },
  {
   "cell_type": "code",
   "execution_count": 7,
   "id": "2f7c3e01",
   "metadata": {},
   "outputs": [],
   "source": [
    "power = 2 \n",
    "n = 2**power\n",
    "\n",
    "ticker ='BTC-USD'\n",
    "start = '2018-01-01'\n",
    "end = '2022-05-22'\n",
    "\n",
    "# raw_data = yf.download(ticker, start, end)['Close']\n",
    "# prices = np.array(raw_data)[1:]/np.array(raw_data)[:-1] - 1"
   ]
  },
  {
   "cell_type": "code",
   "execution_count": 8,
   "id": "e502117a",
   "metadata": {},
   "outputs": [
    {
     "name": "stdout",
     "output_type": "stream",
     "text": [
      "[*********************100%***********************]  1 of 1 completed\n"
     ]
    }
   ],
   "source": [
    "#downloading data\n",
    "raw_data = yf.download(ticker, start, end)['Close']\n",
    "prices = np.array(raw_data)[1:]\n",
    "returns = np.array(raw_data)[1:]/np.array(raw_data)[:-1] - 1"
   ]
  },
  {
   "cell_type": "code",
   "execution_count": 9,
   "id": "d6cd46fa",
   "metadata": {},
   "outputs": [
    {
     "data": {
      "text/plain": [
       "Date\n",
       "2017-12-31    14156.400391\n",
       "2018-01-01    13657.200195\n",
       "2018-01-02    14982.099609\n",
       "2018-01-03    15201.000000\n",
       "2018-01-04    15599.200195\n",
       "                  ...     \n",
       "2022-05-17    30425.857422\n",
       "2022-05-18    28720.271484\n",
       "2022-05-19    30314.333984\n",
       "2022-05-20    29200.740234\n",
       "2022-05-21    29432.226562\n",
       "Name: Close, Length: 1603, dtype: float64"
      ]
     },
     "execution_count": 9,
     "metadata": {},
     "output_type": "execute_result"
    }
   ],
   "source": [
    "raw_data\n"
   ]
  },
  {
   "cell_type": "code",
   "execution_count": 10,
   "id": "fbe2ec0e",
   "metadata": {},
   "outputs": [],
   "source": [
    "#initialising arrays\n",
    "hursts = np.array([])\n",
    "tstats = np.array([])\n",
    "pvalues = np.array([])"
   ]
  },
  {
   "cell_type": "code",
   "execution_count": 24,
   "id": "83f5b524",
   "metadata": {},
   "outputs": [
    {
     "ename": "IndexError",
     "evalue": "index 1 is out of bounds for axis 0 with size 1",
     "output_type": "error",
     "traceback": [
      "\u001b[1;31m---------------------------------------------------------------------------\u001b[0m",
      "\u001b[1;31mIndexError\u001b[0m                                Traceback (most recent call last)",
      "Input \u001b[1;32mIn [24]\u001b[0m, in \u001b[0;36m<cell line: 2>\u001b[1;34m()\u001b[0m\n\u001b[0;32m     22\u001b[0m reg \u001b[38;5;241m=\u001b[39m sm\u001b[38;5;241m.\u001b[39mOLS(Y, sm\u001b[38;5;241m.\u001b[39madd_constant(X))\n\u001b[0;32m     23\u001b[0m res \u001b[38;5;241m=\u001b[39m reg\u001b[38;5;241m.\u001b[39mfit()\n\u001b[1;32m---> 24\u001b[0m hurst \u001b[38;5;241m=\u001b[39m \u001b[43mres\u001b[49m\u001b[38;5;241;43m.\u001b[39;49m\u001b[43mparams\u001b[49m\u001b[43m[\u001b[49m\u001b[38;5;241;43m1\u001b[39;49m\u001b[43m]\u001b[49m\n\u001b[0;32m     25\u001b[0m tstat \u001b[38;5;241m=\u001b[39m (res\u001b[38;5;241m.\u001b[39mparams[\u001b[38;5;241m1\u001b[39m]\u001b[38;5;241m-\u001b[39m\u001b[38;5;241m0.5\u001b[39m)\u001b[38;5;241m/\u001b[39mres\u001b[38;5;241m.\u001b[39mbse[\u001b[38;5;241m1\u001b[39m]\n\u001b[0;32m     26\u001b[0m pvalue \u001b[38;5;241m=\u001b[39m \u001b[38;5;241m2\u001b[39m\u001b[38;5;241m*\u001b[39m(\u001b[38;5;241m1\u001b[39m \u001b[38;5;241m-\u001b[39m sps\u001b[38;5;241m.\u001b[39mt\u001b[38;5;241m.\u001b[39mcdf(\u001b[38;5;28mabs\u001b[39m(tstat),res\u001b[38;5;241m.\u001b[39mdf_resid))\n",
      "\u001b[1;31mIndexError\u001b[0m: index 1 is out of bounds for axis 0 with size 1"
     ]
    }
   ],
   "source": [
    "#calculating the rolling Hurst exponent\n",
    "for t in np.arange(n,len(returns)+1):\n",
    "    #specifying the subsample\n",
    "    data = returns[t-n:t]\n",
    "    X = np.arange(2, power+1)\n",
    "    Y = np.array([])\n",
    "    for p in X:\n",
    "        m = 2**p\n",
    "        s = 2**(power-p)\n",
    "        rs_array = np.array([])\n",
    "        #moving across subsamples\n",
    "        for i in np.arange(0,s):\n",
    "            subsample = data[i*m:(i+1)*m]\n",
    "            mean = np.average(subsample)\n",
    "            deviate = np.cumsum(subsample-mean)\n",
    "            difference = max(deviate) - min(deviate)\n",
    "            stdev = np.std(subsample)\n",
    "            rescaled_range = difference/stdev\n",
    "            rs_array = np.append(rs_array, rescaled_range)\n",
    "        #calculating the log2 of average rescaled range\n",
    "        Y = np.append(Y, np.log2(np.average(rs_array)))\n",
    "    reg = sm.OLS(Y, sm.add_constant(X))\n",
    "    res = reg.fit()\n",
    "    hurst = res.params[1]\n",
    "    tstat = (res.params[1]-0.5)/res.bse[1]\n",
    "    pvalue = 2*(1 - sps.t.cdf(abs(tstat),res.df_resid))\n",
    "    hursts = np.append(hursts, hurst)\n",
    "    tstats = np.append(tstats, tstat)\n",
    "    pvalues = np.append(pvalues, pvalue)\n"
   ]
  },
  {
   "cell_type": "code",
   "execution_count": 23,
   "id": "dab2eba0",
   "metadata": {},
   "outputs": [
    {
     "data": {
      "image/png": "[encoded data removed]",
      "text/plain": [
       "<Figure size 432x288 with 1 Axes>"
      ]
     },
     "metadata": {
      "needs_background": "light"
     },
     "output_type": "display_data"
    },
    {
     "data": {
      "image/png": "[encoded data removed]",
      "text/plain": [
       "<Figure size 432x288 with 1 Axes>"
      ]
     },
     "metadata": {
      "needs_background": "light"
     },
     "output_type": "display_data"
    }
   ],
   "source": [
    "#visualising the Hurst exponent\n",
    "plt.figure(1)\n",
    "plt.rc('xtick',labelsize = 8)\n",
    "plt.ylim(0.4,0.6)\n",
    "plt.plot(raw_data.index[n:],hursts)\n",
    "plt.plot(raw_data.index[n:],np.ones(len(hursts))*0.5)\n",
    "plt.show()\n",
    "#visualising the t-stat and critical values\n",
    "plt.figure(2)\n",
    "plt.rc('xtick',labelsize = 8)\n",
    "plt.plot(raw_data.index[n:],tstats)\n",
    "plt.plot(raw_data.index[n:],np.ones(len(tstats))*sps.t.ppf(0.005,res.df_resid))\n",
    "plt.plot(raw_data.index[n:],np.ones(len(tstats))*sps.t.ppf(0.995,res.df_resid))\n",
    "plt.show()"
   ]
  },
  {
   "cell_type": "code",
   "execution_count": 17,
   "id": "45cd3461",
   "metadata": {},
   "outputs": [],
   "source": []
  },
  {
   "cell_type": "code",
   "execution_count": 19,
   "id": "dfb2961d",
   "metadata": {},
   "outputs": [
    {
     "data": {
      "text/plain": [
       "array([8.76428571])"
      ]
     },
     "execution_count": 19,
     "metadata": {},
     "output_type": "execute_result"
    }
   ],
   "source": [
    "res.params\n"
   ]
  },
  {
   "cell_type": "code",
   "execution_count": null,
   "id": "b75ce937",
   "metadata": {},
   "outputs": [],
   "source": []
  }
 ],
 "metadata": {
  "kernelspec": {
   "display_name": "Python 3 (ipykernel)",
   "language": "python",
   "name": "python3"
  },
  "language_info": {
   "codemirror_mode": {
    "name": "ipython",
    "version": 3
   },
   "file_extension": ".py",
   "mimetype": "text/x-python",
   "name": "python",
   "nbconvert_exporter": "python",
   "pygments_lexer": "ipython3",
   "version": "3.9.12"
  }
 },
 "nbformat": 4,
 "nbformat_minor": 5
}
